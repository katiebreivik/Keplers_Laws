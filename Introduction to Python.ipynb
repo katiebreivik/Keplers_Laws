{
 "cells": [
  {
   "cell_type": "markdown",
   "metadata": {
    "collapsed": true
   },
   "source": [
    "## This is a jupyter notebook. These types of notebooks are useful for doing data analysis and making plots. We will do both here!"
   ]
  },
  {
   "cell_type": "markdown",
   "metadata": {},
   "source": [
    "## 'Jupyter' is a mashup of Julia and python, two coding languages. It's really great for doing difficult math problems or repeating a lot of calculations in a small amount of time. You can try any math function in the cell below. To execute the code, type Shift+Enter. To add another cell like the one below, click on the plus button in the tool bar to the left of the scissors."
   ]
  },
  {
   "cell_type": "code",
   "execution_count": null,
   "metadata": {
    "collapsed": true
   },
   "outputs": [],
   "source": []
  },
  {
   "cell_type": "markdown",
   "metadata": {},
   "source": [
    "## We will be using python to simulate orbits and investigate how changing the mass, separation, and eccentricity changes the shape of the orbit."
   ]
  },
  {
   "cell_type": "markdown",
   "metadata": {
    "collapsed": true
   },
   "source": [
    "### Anytime you use a coding language, you need to let the computer know what packages you'll be using. Since we are going to make graphs (also called plots), we need to import the plotting package: matplotlib.pyplot\n",
    "\n",
    "### In this notebook, we'd also like to make our plots show up as we code them, so we tell the python plotting package, matplotlib, to plot 'inline'. \n",
    "\n"
   ]
  },
  {
   "cell_type": "code",
   "execution_count": 11,
   "metadata": {
    "collapsed": true
   },
   "outputs": [],
   "source": [
    "import matplotlib.pyplot as plt\n",
    "% matplotlib inline"
   ]
  },
  {
   "cell_type": "markdown",
   "metadata": {},
   "source": [
    "## We can use python to solve equations. To do this, we need to tell the code what our variables are. \n",
    "\n",
    "## Let's do an example with Kepler's Third Law which says for orbital period measured in years and semimajor axis measured in years:\n",
    "\n",
    "# $\\rm{P}^2 = \\rm{a}^3$"
   ]
  },
  {
   "cell_type": "markdown",
   "metadata": {},
   "source": [
    "### Here is a list of every planet's semimajor axis"
   ]
  },
  {
   "cell_type": "code",
   "execution_count": 24,
   "metadata": {
    "collapsed": true
   },
   "outputs": [],
   "source": [
    "semimajor_axis_Mercury = 0.3871\n",
    "semimajor_axis_Venus = 0.7233\n",
    "semimajor_axis_Earth = 1.0000\n",
    "semimajor_axis_Mars = 1.5237\n",
    "semimajor_axis_Jupiter = 5.2029\n",
    "semimajor_axis_Saturn = 9.5370\n",
    "semimajor_axis_Neptune = 19.1890\n",
    "semimajor_axis_Uranus = 30.0699\n",
    "semimajor_axis_Pluto = 39.4821"
   ]
  },
  {
   "cell_type": "markdown",
   "metadata": {},
   "source": [
    "### Thanks to Kepler's third law, we can compute the orbital period! We can define a function that will apply Kepler's third law to any semimajor axis we send into the function\n",
    "\n",
    "### There are three things to keep in mind when defining functions:\n",
    "### (1) the function is named something useful, so you know what it will do\n",
    "### (2) the function needs variables (the things inside the parentheses) to begin and returns variables at the end\n",
    "### (3) the function should tell you what the physical units are for each variable"
   ]
  },
  {
   "cell_type": "code",
   "execution_count": 20,
   "metadata": {
    "collapsed": true
   },
   "outputs": [],
   "source": [
    "def Keplers_third_law(semimajor_axis):\n",
    "    # Units: \n",
    "\n",
    "    return orbital_period"
   ]
  },
  {
   "cell_type": "code",
   "execution_count": 21,
   "metadata": {
    "collapsed": true
   },
   "outputs": [],
   "source": [
    "### Compute the orbital period here for every planet using the Keplers_third_law function\n",
    "orbital_period_Mercury =\n",
    "orbital_period_Venus =\n",
    "orbital_period_Earth =\n",
    "orbital_period_Mars = \n",
    "orbital_period_Jupiter =\n",
    "orbital_period_Saturn = \n",
    "orbital_period_Neptune =\n",
    "orbital_period_Uranus =\n",
    "orbital_period_Pluto =\n"
   ]
  },
  {
   "cell_type": "markdown",
   "metadata": {},
   "source": [
    "### Now that we have the semimajor axis and orbital period for every planet, we can make a graph showing that Kepler's Third Law works for every planet\n",
    "\n",
    "### Every graph should have a few key elements:\n",
    "### A title, x axis label, y axis label, legend\n",
    "\n",
    "### We will include each of these in the plot"
   ]
  },
  {
   "cell_type": "code",
   "execution_count": 23,
   "metadata": {
    "collapsed": true
   },
   "outputs": [],
   "source": [
    "# A scatter plot can be used to show how two variables depend on each other.\n",
    "# For this graph, lets make a scatter plot of semimajor axis vs orbital period.\n",
    "# To do this we use the python plotting package defined as: plt \n",
    "# A scatter plot uses the scatter function in plt: plt.scatter(x_value, y_value, label='label')\n",
    "\n",
    "plt.scatter(semimajor_axis_Earth, orbital_period_Earth, label='label')\n",
    "\n",
    "# To set the title and labels, we use the title, xlabel, and ylabel functions in plt:\n",
    "plt.title('fill in your title here')\n",
    "plt.xlabel('fill in your x label here')\n",
    "plt.ylabel('fill in your y label here')\n",
    "\n",
    "# To make a legend, we use the legend function\n",
    "plt.legend()\n",
    "\n",
    "# To show our plot below, we use the show function\n",
    "plt.show()"
   ]
  }
 ],
 "metadata": {
  "kernelspec": {
   "display_name": "Python 2",
   "language": "python",
   "name": "python2"
  },
  "language_info": {
   "codemirror_mode": {
    "name": "ipython",
    "version": 2
   },
   "file_extension": ".py",
   "mimetype": "text/x-python",
   "name": "python",
   "nbconvert_exporter": "python",
   "pygments_lexer": "ipython2",
   "version": "2.7.13"
  }
 },
 "nbformat": 4,
 "nbformat_minor": 2
}

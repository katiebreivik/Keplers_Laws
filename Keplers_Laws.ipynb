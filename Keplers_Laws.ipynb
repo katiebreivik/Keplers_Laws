{
 "cells": [
  {
   "cell_type": "markdown",
   "metadata": {},
   "source": [
    "# This is a jupyter notebook. These types of notebooks are useful for doing data analysis and making plots. We will do both here!"
   ]
  },
  {
   "cell_type": "markdown",
   "metadata": {},
   "source": [
    "# 'Jupyter' is a mashup of Julia and python, two coding languages. We will be using python to simulate orbits and investigate how changing the mass, separation, and eccentricity changes the shape of the orbit."
   ]
  },
  {
   "cell_type": "markdown",
   "metadata": {},
   "source": [
    "### Before we get going, let's review some stuff about orbits! Johannes Kepler taught the world how orbits work with three laws:\n",
    "\n",
    "### Kepler's Law #1: All planets move in elliptical orbits, with the sun at one focus. The place a planet resides at any time on it's orbit can be specified by the angle the planet makes from the semimajor axis. This angle is called the 'true anomaly'.\n",
    "\n",
    "<img src=\"KeplersFirstLaw.gif\">\n",
    "\n",
    "### Kepler's Law #2: A line that connects a planet to the sun sweeps out equal areas in equal times.\n",
    "\n",
    "<img src=\"KeplersSecondLaw.jpg\">\n",
    "\n",
    "### Kepler's Law #3: The square of the period of any planet is proportional to the cube of the semimajor axis of its orbit.\n",
    "\n",
    "<img src=\"KeplersThirdLaw.gif\">\n"
   ]
  },
  {
   "cell_type": "markdown",
   "metadata": {},
   "source": [
    "## Alright let's do some coding!!\n",
    "### In this notebook, we'd like to make our plots show up as we code them, so we tell the python plotting package, matplotlib, to plot 'inline'. We will also use numpy, which is short for 'numerical python'. Numpy is useful when using trigonometric functions like sin and cos."
   ]
  },
  {
   "cell_type": "code",
   "execution_count": null,
   "metadata": {
    "collapsed": true
   },
   "outputs": [],
   "source": [
    "% matplotlib inline\n",
    "import matplotlib.pyplot as plt\n",
    "import numpy as np\n"
   ]
  },
  {
   "cell_type": "markdown",
   "metadata": {},
   "source": [
    "## It is always a good idea to define the physical constants you'll use in your code. In this case, we'll define the gravitational constant, G, and some mass, time, and distance units that will be useful."
   ]
  },
  {
   "cell_type": "code",
   "execution_count": null,
   "metadata": {
    "collapsed": true
   },
   "outputs": [],
   "source": [
    "# CONSTANTS\n",
    "##############################################################################\n",
    "G = 6.67384*10**(-11.0)\n",
    "Msun = 1.9891*10**30.0\n",
    "seconds_in_day = 86400.0\n",
    "seconds_in_hour = 3600.0\n",
    "seconds_in_year = 3.15569*10**7.0\n",
    "day_in_year = 365.242\n",
    "hours_in_day = 24.0\n",
    "meters_in_AU = 1.496*10**11.0\n",
    "pi = np.pi"
   ]
  },
  {
   "cell_type": "markdown",
   "metadata": {},
   "source": [
    "## We also need some functions that we'll use to generate orbit data. We'll write our own functions in the future. For now, notice a few things about each function: \n",
    "### (1) the function is named something useful, so you know what it will do\n",
    "### (2) the function needs variables (the things inside the parentheses) to begin and returns variables at the end\n",
    "### (3) the function should tell you what the physical units are for each variable\n",
    "## We'll use these functions to generate orbits for several different scenarios. The first two functions use Kepler's third law to convert between separation and orbital period. The third equation solves for every point on an orbit; this can be used to graph the orbit!"
   ]
  },
  {
   "cell_type": "code",
   "execution_count": null,
   "metadata": {
    "collapsed": true
   },
   "outputs": [],
   "source": [
    "def keplerIII_period_to_separation(p_orb):\n",
    "    #########################################################\n",
    "    # Units: orbital period [yr], separation [au]           #\n",
    "    #########################################################\n",
    "    sep_cubed = p_orb**2\n",
    "    sep = sep_cubed**(1./3.)\n",
    "    \n",
    "    return sep\n",
    "\n",
    "def keplerIII_separation_to_period(sep):\n",
    "    #########################################################\n",
    "    # Units: orbital period [yr], separation [au]           #\n",
    "    #########################################################\n",
    "    p_orb_squared = sep**3\n",
    "    p_orb = p_orb_squared**(1./2.)\n",
    "    \n",
    "    return p_orb\n",
    "\n",
    "\n",
    "##### TAKE OUT THE MASS #####\n",
    "\n",
    "def make_kepler_orbit(e,p_orb):\n",
    "    ###################################################################################\n",
    "    # Units: orbital period [years]                                                   #\n",
    "    ###################################################################################    \n",
    "    nStep = 500.0\n",
    "    tRange = np.linspace(0,p_orb,nStep)\n",
    "    \n",
    "    theta = []    \n",
    "    for time in tRange:\n",
    "        nHalfPorb = int(2*(time-1)/p_orb)\n",
    "        PsiDiff = 1\n",
    "        M = 2*np.pi*time/p_orb\n",
    "        PsiOld = M\n",
    "        theta0old = 180.0\n",
    "        while PsiDiff > 1e-10:\n",
    "        #print PsiDiff, PsiOld, e*math.sin(PsiOld)\n",
    "            PsiNew = M + e*np.sin(PsiOld)\n",
    "            PsiDiff = PsiNew-PsiOld\n",
    "            PsiOld = PsiNew\n",
    "        theta0 = 2*np.arctan(((1+e)/(1-e))**(0.5)*np.tan(PsiOld/2.))\n",
    "        theta.append(theta0)        \n",
    "    return theta"
   ]
  },
  {
   "cell_type": "markdown",
   "metadata": {},
   "source": [
    "## First, let's simulate the Earth's orbit! To do this, we need to specify all of the variables used in the 'make_kepler_orbit' function. Taking note of the units, let's fill in the mass, orbital period and eccentricity."
   ]
  },
  {
   "cell_type": "code",
   "execution_count": null,
   "metadata": {
    "collapsed": true
   },
   "outputs": [],
   "source": [
    "orbital_period = 1.0\n",
    "eccentricity = 0.02"
   ]
  },
  {
   "cell_type": "markdown",
   "metadata": {},
   "source": [
    "### Now we are ready to make our Kepler orbit. To do this, we need to send the right variables to the function and be ready for the variable the function sends back. make_kepler_orbit sends back a list of angles; these angles are different true anomaly angles for each time in the orbit.\n",
    "\n",
    "### We need to be sure to name the list that gets sent back from make_kepler_orbit makes sense. Choose a name that makes sense to you."
   ]
  },
  {
   "cell_type": "code",
   "execution_count": null,
   "metadata": {},
   "outputs": [],
   "source": [
    "list1 = make_kepler_orbit(eccentricity,orbital_period)\n"
   ]
  },
  {
   "cell_type": "markdown",
   "metadata": {},
   "source": [
    "## To make plots, we need to be able to specify the x and y position of each true anomaly value. This is done using the kepler shape equation: \n",
    "<img src=\"shape_equation.gif\">\n",
    "\n",
    "## In the shape equation, theta is the true_anomaly.\n",
    "\n",
    "## The function below, orbit(sep,e,true_anomaly), computes the x and y values from the shape equation and returns them as xorbit and yorbit. We can use these x and y values to make a scatter plot of the orbit!"
   ]
  },
  {
   "cell_type": "code",
   "execution_count": null,
   "metadata": {
    "collapsed": true
   },
   "outputs": [],
   "source": [
    "def orbit(sep,e,true_anomaly): \n",
    "    ##############################################\n",
    "    # Units: separation [same as units supplied] #\n",
    "    ##############################################\n",
    "    \n",
    "    # define the shape equation\n",
    "    rorbit = sep*(1 - e**2)/(1 + e*np.cos(true_anomaly))\n",
    "    xorbit = rorbit*np.cos(true_anomaly)\n",
    "    yorbit = rorbit*np.sin(true_anomaly)\n",
    "     \n",
    "    \n",
    "    return xorbit,yorbit"
   ]
  },
  {
   "cell_type": "markdown",
   "metadata": {},
   "source": [
    "## Notice that the orbit function needs the separation. This means we'll need to use one of the Kepler's third law functions to convert the orbital period to separation.\n",
    "\n",
    "## Both function calls are listed below, choose which function we should used based on the conversion we need to make and fill in the variables. Be sure to rename the variable name to something that is easy to understand!"
   ]
  },
  {
   "cell_type": "code",
   "execution_count": null,
   "metadata": {
    "collapsed": true
   },
   "outputs": [],
   "source": [
    "#variable = keplerIII_period_to_separation(variable_1)\n",
    "#variable = keplerIII_separation_to_period(variable_1)\n",
    "\n",
    "sep = keplerIII_period_to_separation(orbital_period)"
   ]
  },
  {
   "cell_type": "markdown",
   "metadata": {},
   "source": [
    "## Now that we have the separation, we can call the orbit function. The orbit function needs the separation, eccentricity and true anomaly to run. Remember that the true anomaly is returned by the make_kepler_orbit function. "
   ]
  },
  {
   "cell_type": "code",
   "execution_count": null,
   "metadata": {
    "collapsed": true
   },
   "outputs": [],
   "source": [
    "#xOrbit, yOrbit = orbit(variable,e0,thetaTest)\n",
    "xOrbit, yOrbit = orbit(sep,eccentricity,list1)\n"
   ]
  },
  {
   "cell_type": "markdown",
   "metadata": {},
   "source": [
    "## Thanks to the orbit function, we can now plot our xorbit and yorbit values. Notice that we set: plt.axis('equal'); this makes the plot use the same size for the x and y axes. Try commenting out the line that makes the axes equal by typing a '#' sign on the front part of the line. What happens to the orbit of the Earth? Why is this misleading? Fill in your answer in the box below the graph."
   ]
  },
  {
   "cell_type": "code",
   "execution_count": null,
   "metadata": {},
   "outputs": [],
   "source": [
    "plt.title('Earth orbit')\n",
    "# The Sun is located at the origin.\n",
    "plt.scatter(0,0, color='orange')\n",
    "plt.scatter(xOrbit,yOrbit)\n",
    "plt.axis('equal')\n",
    "plt.xlabel('x position [au]')\n",
    "plt.ylabel('y position [au]')\n",
    "plt.show()"
   ]
  },
  {
   "cell_type": "markdown",
   "metadata": {},
   "source": [
    "The orbit looks eccentric. This is misrepresenting our data!"
   ]
  },
  {
   "cell_type": "markdown",
   "metadata": {},
   "source": [
    "## Now that we know how to make Earth's orbit, we can make orbits for any of the planets in the Solar System on a single plot! We'll need to know the mass of the planet in units of solar mass, its orbital period in years, and its eccentricity. This data is below for every planet other than Earth:\n",
    "\n",
    "#### Planet = Mercury, Mass = 1.7 × 10^(-7) solar mass, orbital period = 0.48 years, eccentricity = 0.21\n",
    "#### Planet = Venus, Mass = 2.6 × 10^(-6) solar mass, orbital period = 0.62 years, eccentricity = 0.01\n",
    "#### Planet = Mars, Mass = 3.2 × 10^(-7) solar mass, orbital period = 1.88 years, eccentricity = 0.09\n",
    "#### Planet = Jupiter, Mass = 9.5 × 10^(-4) solar mass, orbital period = 11.86 years, eccentricity = 0.05\n",
    "#### Planet = Saturn, Mass = 2.9 × 10^(-4) solar mass, orbital period = 29.46 years, eccentricity = 0.05\n",
    "#### Planet = Uranus, Mass = 4.5 × 10^(-5) solar mass, orbital period =84.02 years, eccentricity = 0.05\n",
    "#### Planet = Neptune, Mass = 5.2 × 10^(-5) solar mass, orbital period = 164.8 years, eccentricity = 0.01\n",
    "#### Planet = Pluto, Mass = 6.6 × 10^(-9) solar mass, orbital period = 248.0 years, eccentricity = 0.25"
   ]
  },
  {
   "cell_type": "markdown",
   "metadata": {},
   "source": [
    "### Based on the data above, predict which planet will have the most circular orbit and the least circular orbit. Fill in your answers below"
   ]
  },
  {
   "cell_type": "markdown",
   "metadata": {},
   "source": [
    "most circular planet:\n",
    "\n",
    "least circular planet:"
   ]
  },
  {
   "cell_type": "markdown",
   "metadata": {},
   "source": [
    "### Following the method in the next cell, pick your favorite planet to plot and plot them in the empty cells below. "
   ]
  },
  {
   "cell_type": "code",
   "execution_count": null,
   "metadata": {},
   "outputs": [],
   "source": [
    "# Define Mercury's parameters; \n",
    "#note we don't need to redefine the mass of the Sun since we already defined it above\n",
    "mass_Mercury = 1.7*10**(-7.0)\n",
    "orbital_period_Mercury = 0.48\n",
    "eccentricity_Mercury = 0.21\n",
    "\n",
    "# compute Mercury's true anomaly\n",
    "true_anomaly_Mercury = make_kepler_orbit(mass_Mercury, mass_Sun, \n",
    "                                         orbital_period_Mercury, eccentricity_Mercury,\n",
    "                                         0,1*orbital_period_Mercury)\n",
    "\n",
    "# compute Mercury's separation\n",
    "separation_Mercury = keplerIII_period_to_separation(orbital_period_Mercury)\n",
    "\n",
    "# compute Mercury's x and y orbital coordinates\n",
    "xOrbit_Mercury, yOrbit_Mercury = orbit(separation_Mercury,eccentricity_Mercury,\n",
    "                                       true_anomaly_Mercury)\n",
    "\n",
    "plt.title('Mercury orbit')\n",
    "# The Sun is located at the origin.\n",
    "plt.scatter(0,0, color='orange')\n",
    "plt.scatter(xOrbit_Mercury,yOrbit_Mercury)\n",
    "plt.axis('equal')\n",
    "plt.xlabel('x position [au]')\n",
    "plt.ylabel('y position [au]')\n",
    "plt.show()\n"
   ]
  },
  {
   "cell_type": "code",
   "execution_count": null,
   "metadata": {
    "collapsed": true
   },
   "outputs": [],
   "source": [
    "##### PUT YOUR CODE IN HERE #####\n",
    "\n",
    "\n"
   ]
  },
  {
   "cell_type": "markdown",
   "metadata": {},
   "source": [
    "# Phase Two"
   ]
  },
  {
   "cell_type": "markdown",
   "metadata": {},
   "source": [
    "## Now let's try comparing the solar system planets to planets orbiting other stars, called exoplanets. Since Kepler's laws work for ANY orbit, we can use the same code to make plots for any kind of exoplanet. One kind of exoplanet is called a hot Jupiter. Below is an artist picture of Wasp 18b:\n",
    "\n",
    "<img src=\"Wasp-18.jpg\">\n",
    "\n",
    "## Here is Wasp 18b's data:\n",
    "#### Planet = Wasp-18b, Star Mass = 1.0 solar mass, Planet Mass = 9.5 × 10^(-3) solar mass, orbital period = 0.24 years, eccentricity = 0.01\n",
    "\n",
    "#### Planet = Jupiter, Mass = 9.5 × 10^(-4) solar mass, orbital period = 11.86 years, eccentricity = 0.05\n",
    "\n",
    "\n",
    "## Based on the data, how would you compare Wasp 18b to Jupiter? Fill your answer in the cell below\n"
   ]
  },
  {
   "cell_type": "markdown",
   "metadata": {},
   "source": [
    "How does Wasp-18b's mass compare to Jupiter's mass:\n",
    "\n",
    "How does Wasp-18b's eccentricity compare to Jupiter's eccentricity:\n",
    "\n",
    "How does Wasp-18b's orbital period compare to Jupiter's orbital period:"
   ]
  },
  {
   "cell_type": "markdown",
   "metadata": {},
   "source": [
    "## Now make a plot of Wasp 18b's orbit and Jupiter's orbit using the same methods as before. Be sure to include a title and axis labels!"
   ]
  },
  {
   "cell_type": "code",
   "execution_count": null,
   "metadata": {
    "collapsed": true
   },
   "outputs": [],
   "source": []
  },
  {
   "cell_type": "markdown",
   "metadata": {},
   "source": [
    "## How is the shape of Wasp 18b similar to Jupiter? How is it different? "
   ]
  },
  {
   "cell_type": "markdown",
   "metadata": {},
   "source": []
  },
  {
   "cell_type": "markdown",
   "metadata": {},
   "source": [
    "## Why do you think astronomers named planets like Wasp 18b 'Hot Jupiters'? Provide evidence (your reasoning) for this statement. "
   ]
  },
  {
   "cell_type": "markdown",
   "metadata": {},
   "source": []
  },
  {
   "cell_type": "code",
   "execution_count": null,
   "metadata": {
    "collapsed": true
   },
   "outputs": [],
   "source": []
  }
 ],
 "metadata": {
  "kernelspec": {
   "display_name": "Python 2",
   "language": "python",
   "name": "python2"
  },
  "language_info": {
   "codemirror_mode": {
    "name": "ipython",
    "version": 2
   },
   "file_extension": ".py",
   "mimetype": "text/x-python",
   "name": "python",
   "nbconvert_exporter": "python",
   "pygments_lexer": "ipython2",
   "version": "2.7.13"
  }
 },
 "nbformat": 4,
 "nbformat_minor": 2
}

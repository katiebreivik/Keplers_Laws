{
 "cells": [
  {
   "cell_type": "markdown",
   "metadata": {},
   "source": [
    "## Phase One: let's do some coding!!\n",
    "### In this notebook, we'd like to make our plots show up as we code them, so we tell the python plotting package, matplotlib, to plot 'inline'. We will also use numpy, which is short for 'numerical python'. Numpy is useful when using trigonometric functions like sin and cos."
   ]
  },
  {
   "cell_type": "code",
   "execution_count": 1,
   "metadata": {
    "collapsed": true
   },
   "outputs": [],
   "source": [
    "% matplotlib inline\n",
    "import matplotlib.pyplot as plt\n",
    "import numpy as np\n"
   ]
  },
  {
   "cell_type": "markdown",
   "metadata": {},
   "source": [
    "## Last time we wrote a function that used Kepler's Third Law to solve for the orbital period when given the semimajor axis. This time, we'll use Kepler's Third Law to solve for the semimajor axis when given the orbital period. Remember a few things about functions: \n",
    "### (1) the function is named something useful, so you know what it will do\n",
    "### (2) the function needs variables (the things inside the parentheses) to begin and returns variables at the end\n",
    "### (3) the function should tell you what the physical units are for each variable\n",
    "## We'll use these functions to generate orbits for several different scenarios. The first functions uses Kepler's third law to convert between semimajor axis and orbital period. The second function solves for every point on an orbit; this can be used to graph the orbit!"
   ]
  },
  {
   "cell_type": "code",
   "execution_count": 2,
   "metadata": {
    "collapsed": true
   },
   "outputs": [],
   "source": [
    "def keplerIII_period_to_semimajor_axis(orbital_period):\n",
    "    #########################################################\n",
    "    # Units: orbital period [yr], separation [au]           #\n",
    "    #########################################################\n",
    "    semimajor_axis_cubed = orbital_period**2\n",
    "    semimajor_axis = semimajor_axis_cubed**(1./3.)\n",
    "    \n",
    "    return semimajor_axis\n",
    "\n",
    "def make_kepler_orbit(eccentricity,orbital_period):\n",
    "    ##########################################################\n",
    "    # Units: orbital period [years]                          #\n",
    "    # returns: 500 true anomaly values throughout the orbit  #\n",
    "    ##########################################################\n",
    "    nStep = 500\n",
    "    tRange = np.linspace(0.0,orbital_period,nStep)\n",
    "    \n",
    "    theta = []    \n",
    "    for time in tRange:\n",
    "        PsiDiff = 1.0\n",
    "        M = 2*np.pi*time/orbital_period\n",
    "        PsiOld = M\n",
    "        theta0old = 180.0\n",
    "        while PsiDiff > 1e-10:\n",
    "            PsiNew = M + eccentricity*np.sin(PsiOld)\n",
    "            PsiDiff = PsiNew-PsiOld\n",
    "            PsiOld = PsiNew\n",
    "        theta0 = 2*np.arctan(((1+eccentricity)/(1-eccentricity))**(0.5)*np.tan(PsiOld/2.))\n",
    "        theta.append(theta0)        \n",
    "    return theta"
   ]
  },
  {
   "cell_type": "markdown",
   "metadata": {},
   "source": [
    "## First, let's simulate the Earth's orbit! To do this, we need to specify all of the variables used in the 'make_kepler_orbit' function. Taking note of the units, let's fill in the orbital period and eccentricity of the Earth."
   ]
  },
  {
   "cell_type": "code",
   "execution_count": 3,
   "metadata": {
    "collapsed": true
   },
   "outputs": [],
   "source": [
    "orbital_period = 1.0\n",
    "eccentricity = 0.02"
   ]
  },
  {
   "cell_type": "markdown",
   "metadata": {},
   "source": [
    "## Now we are ready to make our Kepler orbit. To do this, we need to send the right variables to the function and be ready for the variable the function sends back. make_kepler_orbit sends back a list of angles; these angles are different true anomaly angles for each time in the orbit.\n",
    "\n",
    "## We need to be sure to name the list that gets sent back from make_kepler_orbit makes sense. Replace 'list1' with a name that makes sense to you."
   ]
  },
  {
   "cell_type": "code",
   "execution_count": 4,
   "metadata": {
    "collapsed": true
   },
   "outputs": [],
   "source": [
    "list1 = make_kepler_orbit(eccentricity,orbital_period)\n"
   ]
  },
  {
   "cell_type": "markdown",
   "metadata": {},
   "source": [
    "## To make plots, we need to be able to specify the x and y position of each true anomaly value. This is done using the kepler shape equation: \n",
    "<img src=\"shape_equation.gif\">\n",
    "\n",
    "## In the shape equation, theta is the true_anomaly.\n",
    "\n",
    "## The function below, orbit(semimajor_axis,e,true_anomaly), computes the x and y values from the shape equation and returns them as xorbit and yorbit. We can use these x and y values to make a scatter plot of the orbit!"
   ]
  },
  {
   "cell_type": "code",
   "execution_count": 5,
   "metadata": {
    "collapsed": true
   },
   "outputs": [],
   "source": [
    "def orbit(semimajor_axis,eccentricity,true_anomaly): \n",
    "    ##############################################\n",
    "    # Units: separation [au] #\n",
    "    ##############################################\n",
    "    \n",
    "    # define the shape equation\n",
    "    r_orbit = semimajor_axis*(1 - eccentricity**2)/(1 + eccentricity*np.cos(true_anomaly))\n",
    "    x_orbit = r_orbit*np.cos(true_anomaly)\n",
    "    y_orbit = r_orbit*np.sin(true_anomaly)\n",
    "     \n",
    "    \n",
    "    return x_orbit,y_orbit"
   ]
  },
  {
   "cell_type": "markdown",
   "metadata": {},
   "source": [
    "## Notice that the orbit function needs the semimajor axis. This means we'll need to use the Kepler's third law function to convert the orbital period to separation.\n",
    "\n",
    "## What do we need to give the function to compute the semimajor axis?"
   ]
  },
  {
   "cell_type": "code",
   "execution_count": 7,
   "metadata": {
    "collapsed": true
   },
   "outputs": [],
   "source": [
    "semimajor_axis = keplerIII_period_to_semimajor_axis(orbital_period)"
   ]
  },
  {
   "cell_type": "markdown",
   "metadata": {},
   "source": [
    "## Now that we have the separation, we can call the orbit function. The orbit function needs the separation, eccentricity and true anomaly to run. Remember that the true anomaly is returned by the make_kepler_orbit function. "
   ]
  },
  {
   "cell_type": "code",
   "execution_count": 8,
   "metadata": {
    "collapsed": true
   },
   "outputs": [],
   "source": [
    "xOrbit, yOrbit = orbit(semimajor_axis,eccentricity,list1)\n"
   ]
  },
  {
   "cell_type": "markdown",
   "metadata": {},
   "source": [
    "## Thanks to the orbit function, we can now plot our x_orbit and y_orbit values. In this plot, we put the Sun at the center (0,0).\n",
    "\n",
    "## Notice that we set: plt.axis('equal') on the fifth line; this makes the plot use the same size for the x and y axes. Try commenting out the line that makes the axes equal by typing a '#' sign on the front part of the line. What happens to the orbit of the Earth? Why is this misleading? Fill in your answer in the box below the graph."
   ]
  },
  {
   "cell_type": "code",
   "execution_count": 9,
   "metadata": {},
   "outputs": [
    {
     "data": {
      "image/png": "[encoded data removed]",
      "text/plain": [
       "<matplotlib.figure.Figure at 0x116073610>"
      ]
     },
     "metadata": {},
     "output_type": "display_data"
    }
   ],
   "source": [
    "plt.title('Earth orbit')\n",
    "# The Sun is located at the origin.\n",
    "plt.scatter(0,0, color='orange')\n",
    "plt.scatter(xOrbit,yOrbit)\n",
    "plt.axis('equal')\n",
    "plt.xlabel('x position [au]')\n",
    "plt.ylabel('y position [au]')\n",
    "plt.show()"
   ]
  },
  {
   "cell_type": "markdown",
   "metadata": {},
   "source": [
    "The plot is misleading because: \n",
    "\n",
    "\n"
   ]
  },
  {
   "cell_type": "markdown",
   "metadata": {},
   "source": [
    "## Now that we know how to make Earth's orbit, we can make orbits for any of the planets in the Solar System on a single plot! We'll need to know the planet's orbital period in years and its eccentricity. This data is below for every planet other than Earth:\n",
    "\n",
    "#### Planet = Mercury, orbital period = 0.48 years, eccentricity = 0.21\n",
    "#### Planet = Venus, orbital period = 0.62 years, eccentricity = 0.01\n",
    "#### Planet = Mars, orbital period = 1.88 years, eccentricity = 0.09\n",
    "#### Planet = Jupiter, orbital period = 11.86 years, eccentricity = 0.05\n",
    "#### Planet = Saturn, orbital period = 29.46 years, eccentricity = 0.05\n",
    "#### Planet = Uranus, orbital period = 84.02 years, eccentricity = 0.05\n",
    "#### Planet = Neptune, orbital period = 164.8 years, eccentricity = 0.01\n",
    "#### Planet = Pluto, orbital period = 248.0 years, eccentricity = 0.25"
   ]
  },
  {
   "cell_type": "markdown",
   "metadata": {},
   "source": [
    "### Based on the data above, predict which planet will have the most circular orbit and the least circular orbit. Fill in your answers below"
   ]
  },
  {
   "cell_type": "markdown",
   "metadata": {},
   "source": [
    "planets with most circular orbits:\n",
    "\n",
    "planets with least circular orbits:"
   ]
  },
  {
   "cell_type": "markdown",
   "metadata": {},
   "source": [
    "### Following the method in the next cell, pick your favorite planet to plot and plot them in the empty cells below. "
   ]
  },
  {
   "cell_type": "code",
   "execution_count": 10,
   "metadata": {},
   "outputs": [
    {
     "data": {
      "image/png": "[encoded data removed]",
      "text/plain": [
       "<matplotlib.figure.Figure at 0x1194d1510>"
      ]
     },
     "metadata": {},
     "output_type": "display_data"
    }
   ],
   "source": [
    "# Define Mercury's parameters; \n",
    "orbital_period_Mercury = 0.48\n",
    "eccentricity_Mercury = 0.21\n",
    "\n",
    "# compute Mercury's true anomaly\n",
    "true_anomaly_Mercury = make_kepler_orbit(eccentricity_Mercury,orbital_period_Mercury)\n",
    "                                         \n",
    "# compute Mercury's separation\n",
    "semimajor_axis_Mercury = keplerIII_period_to_semimajor_axis(orbital_period_Mercury)\n",
    "\n",
    "# compute Mercury's x and y orbital coordinates\n",
    "xOrbit_Mercury, yOrbit_Mercury = orbit(semimajor_axis_Mercury,eccentricity_Mercury,\n",
    "                                       true_anomaly_Mercury)\n",
    "\n",
    "plt.title('Mercury orbit')\n",
    "# The Sun is located at the origin.\n",
    "plt.scatter(0,0, color='orange')\n",
    "plt.scatter(xOrbit_Mercury,yOrbit_Mercury)\n",
    "plt.axis('equal')\n",
    "plt.xlabel('x position [au]')\n",
    "plt.ylabel('y position [au]')\n",
    "plt.show()\n"
   ]
  },
  {
   "cell_type": "code",
   "execution_count": 11,
   "metadata": {
    "collapsed": true
   },
   "outputs": [],
   "source": [
    "##### PUT YOUR CODE IN HERE #####\n",
    "\n",
    "\n"
   ]
  },
  {
   "cell_type": "markdown",
   "metadata": {},
   "source": [
    "# Phase Two"
   ]
  },
  {
   "cell_type": "markdown",
   "metadata": {},
   "source": [
    "## Now let's try comparing the solar system planets to planets orbiting other stars, called exoplanets. Since Kepler's laws work for ANY orbit, we can use the same code to make plots for any kind of exoplanet. One kind of exoplanet is called a hot Jupiter. Below is an artist picture of Wasp 18b:\n",
    "\n",
    "<img src=\"Wasp-18.jpg\">\n",
    "\n",
    "## Here is Wasp 18b's data:\n",
    "#### Planet = Wasp-18b, orbital period = 0.24 years, eccentricity = 0.01\n",
    "\n",
    "#### Planet = Jupiter, orbital period = 11.86 years, eccentricity = 0.05\n",
    "\n",
    "\n",
    "## Based on the data, how would you compare Wasp 18b to Jupiter? Fill your answer in the cell below\n"
   ]
  },
  {
   "cell_type": "markdown",
   "metadata": {},
   "source": [
    "How does Wasp-18b's eccentricity compare to Jupiter's eccentricity:\n",
    "\n",
    "How does Wasp-18b's orbital period compare to Jupiter's orbital period:"
   ]
  },
  {
   "cell_type": "markdown",
   "metadata": {},
   "source": [
    "## Now make a plot of Wasp 18b's orbit and Jupiter's orbit using the same methods as before. Be sure to include a title and axis labels!"
   ]
  },
  {
   "cell_type": "code",
   "execution_count": null,
   "metadata": {
    "collapsed": true
   },
   "outputs": [],
   "source": []
  },
  {
   "cell_type": "markdown",
   "metadata": {},
   "source": [
    "## How is the shape of Wasp 18b similar to Jupiter? How is it different? "
   ]
  },
  {
   "cell_type": "markdown",
   "metadata": {},
   "source": [
    "Wasp 18b is similar to Jupiter because:\n",
    "\n",
    "Wasp 18b is different from Jupiter because:"
   ]
  },
  {
   "cell_type": "markdown",
   "metadata": {},
   "source": [
    "## Why do you think astronomers named planets like Wasp 18b 'Hot Jupiters'? Provide evidence (your reasoning) for this statement. "
   ]
  },
  {
   "cell_type": "markdown",
   "metadata": {},
   "source": [
    "Astronomer named planets like Wasp 18b 'Hot Jupiters' because: "
   ]
  },
  {
   "cell_type": "code",
   "execution_count": null,
   "metadata": {
    "collapsed": true
   },
   "outputs": [],
   "source": []
  }
 ],
 "metadata": {
  "kernelspec": {
   "display_name": "Python 2",
   "language": "python",
   "name": "python2"
  },
  "language_info": {
   "codemirror_mode": {
    "name": "ipython",
    "version": 2
   },
   "file_extension": ".py",
   "mimetype": "text/x-python",
   "name": "python",
   "nbconvert_exporter": "python",
   "pygments_lexer": "ipython2",
   "version": "2.7.13"
  }
 },
 "nbformat": 4,
 "nbformat_minor": 2
}
